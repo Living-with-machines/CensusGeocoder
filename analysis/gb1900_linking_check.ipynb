{
 "cells": [
  {
   "cell_type": "code",
   "execution_count": 1,
   "metadata": {},
   "outputs": [
    {
     "name": "stderr",
     "output_type": "stream",
     "text": [
      "/Users/wknq25/opt/anaconda3/envs/geocoder_py38/lib/python3.8/site-packages/geopandas/_compat.py:123: UserWarning: The Shapely GEOS version (3.11.1-CAPI-1.17.1) is incompatible with the GEOS version PyGEOS was compiled with (3.10.4-CAPI-1.16.2). Conversions between both will be slow.\n",
      "  warnings.warn(\n",
      "/var/folders/fg/_n1n9v7x7x1bk7m6gwfkv97m0000gp/T/ipykernel_4920/2887318932.py:3: UserWarning: Shapely 2.0 is installed, but because PyGEOS is also installed, GeoPandas will still use PyGEOS by default for now. To force to use and test Shapely 2.0, you have to set the environment variable USE_PYGEOS=0. You can do this before starting the Python process, or in your code before importing geopandas:\n",
      "\n",
      "import os\n",
      "os.environ['USE_PYGEOS'] = '0'\n",
      "import geopandas\n",
      "\n",
      "In a future release, GeoPandas will switch to using Shapely by default. If you are using PyGEOS directly (calling PyGEOS functions on geometries from GeoPandas), this will then stop working and you are encouraged to migrate from PyGEOS to Shapely 2.0 (https://shapely.readthedocs.io/en/latest/migration_pygeos.html).\n",
      "  import geopandas as gpd\n"
     ]
    }
   ],
   "source": [
    "import pandas as pd\n",
    "import pathlib\n",
    "import geopandas as gpd\n",
    "import seaborn as sns"
   ]
  },
  {
   "cell_type": "code",
   "execution_count": 29,
   "metadata": {},
   "outputs": [],
   "source": [
    "list_of_census = [\n",
    "    \"EW_1901\",\n",
    "    # \"EW_1861\",\n",
    "    # \"EW_1881\",\n",
    "    # \"EW_1891\",\n",
    "    # \"EW_1901\",\n",
    "    # \"EW_1911\"\n",
    "]\n",
    "\n",
    "geom = \"gb1900\""
   ]
  },
  {
   "cell_type": "code",
   "execution_count": 30,
   "metadata": {},
   "outputs": [],
   "source": [
    "for census in list_of_census:\n",
    "    country = census.split(\"_\")[0]\n",
    "    year = census.split(\"_\")[1]\n",
    "    geom_linked = pd.read_csv(f\"analysis/{year}/{country}/{geom}/{geom}_link_lkup_merge.tsv\", sep = \"\\t\")\n",
    "\n",
    "    geom_data = gpd.read_file(f\"output/{year}/{country}/{geom}/{geom}_{country}_{year}.geojson\")\n"
   ]
  },
  {
   "cell_type": "code",
   "execution_count": 23,
   "metadata": {},
   "outputs": [
    {
     "data": {
      "text/html": [
       "<div>\n",
       "<style scoped>\n",
       "    .dataframe tbody tr th:only-of-type {\n",
       "        vertical-align: middle;\n",
       "    }\n",
       "\n",
       "    .dataframe tbody tr th {\n",
       "        vertical-align: top;\n",
       "    }\n",
       "\n",
       "    .dataframe thead th {\n",
       "        text-align: right;\n",
       "    }\n",
       "</style>\n",
       "<table border=\"1\" class=\"dataframe\">\n",
       "  <thead>\n",
       "    <tr style=\"text-align: right;\">\n",
       "      <th></th>\n",
       "      <th>gb1900_EW_1901</th>\n",
       "      <th>pin_id</th>\n",
       "      <th>final_text</th>\n",
       "      <th>conparid_01-11</th>\n",
       "      <th>CEN_1901</th>\n",
       "      <th>geometry</th>\n",
       "    </tr>\n",
       "  </thead>\n",
       "  <tbody>\n",
       "    <tr>\n",
       "      <th>0</th>\n",
       "      <td>52d73146c4931d000e00b112_111267.0_3520002</td>\n",
       "      <td>52d73146c4931d000e00b112</td>\n",
       "      <td>VICARAGE</td>\n",
       "      <td>111267.0</td>\n",
       "      <td>3520002</td>\n",
       "      <td>POINT (320949.215 328423.258)</td>\n",
       "    </tr>\n",
       "    <tr>\n",
       "      <th>1</th>\n",
       "      <td>52d731e3c4931d000800a2a0_111267.0_3520002</td>\n",
       "      <td>52d731e3c4931d000800a2a0</td>\n",
       "      <td>POLICE STATION</td>\n",
       "      <td>111267.0</td>\n",
       "      <td>3520002</td>\n",
       "      <td>POINT (320974.573 328029.188)</td>\n",
       "    </tr>\n",
       "    <tr>\n",
       "      <th>2</th>\n",
       "      <td>53f75f10e678ef000b00024c_111267.0_3520002</td>\n",
       "      <td>53f75f10e678ef000b00024c</td>\n",
       "      <td>TY-NEWYDD</td>\n",
       "      <td>111267.0</td>\n",
       "      <td>3520002</td>\n",
       "      <td>POINT (320859.559 327007.848)</td>\n",
       "    </tr>\n",
       "    <tr>\n",
       "      <th>3</th>\n",
       "      <td>54a036ecbad6480008001405_111267.0_3520002</td>\n",
       "      <td>54a036ecbad6480008001405</td>\n",
       "      <td>OLD QUARRY</td>\n",
       "      <td>111267.0</td>\n",
       "      <td>3520002</td>\n",
       "      <td>POINT (318164.826 331096.321)</td>\n",
       "    </tr>\n",
       "    <tr>\n",
       "      <th>4</th>\n",
       "      <td>54a03719bad6480008001409_111267.0_3520002</td>\n",
       "      <td>54a03719bad6480008001409</td>\n",
       "      <td>HÊN GRAIG</td>\n",
       "      <td>111267.0</td>\n",
       "      <td>3520002</td>\n",
       "      <td>POINT (317350.625 330882.680)</td>\n",
       "    </tr>\n",
       "    <tr>\n",
       "      <th>...</th>\n",
       "      <td>...</td>\n",
       "      <td>...</td>\n",
       "      <td>...</td>\n",
       "      <td>...</td>\n",
       "      <td>...</td>\n",
       "      <td>...</td>\n",
       "    </tr>\n",
       "    <tr>\n",
       "      <th>1148810</th>\n",
       "      <td>58278e122c66dcdc11012d4c_106355.0_4020001</td>\n",
       "      <td>58278e122c66dcdc11012d4c</td>\n",
       "      <td>PILLAR</td>\n",
       "      <td>106355.0</td>\n",
       "      <td>4020001</td>\n",
       "      <td>POINT (465396.739 299670.842)</td>\n",
       "    </tr>\n",
       "    <tr>\n",
       "      <th>1148811</th>\n",
       "      <td>58278e1b2c66dcdc11012d54_106355.0_4020001</td>\n",
       "      <td>58278e1b2c66dcdc11012d54</td>\n",
       "      <td>STATUE</td>\n",
       "      <td>106355.0</td>\n",
       "      <td>4020001</td>\n",
       "      <td>POINT (465380.701 299619.869)</td>\n",
       "    </tr>\n",
       "    <tr>\n",
       "      <th>1148812</th>\n",
       "      <td>58278e252c66dcdc11012d5e_106355.0_4020001</td>\n",
       "      <td>58278e252c66dcdc11012d5e</td>\n",
       "      <td>STRETTON HALL</td>\n",
       "      <td>106355.0</td>\n",
       "      <td>4020001</td>\n",
       "      <td>POINT (465352.035 299589.030)</td>\n",
       "    </tr>\n",
       "    <tr>\n",
       "      <th>1148813</th>\n",
       "      <td>58278e2e2c66dcdc11012d66_106355.0_4020001</td>\n",
       "      <td>58278e2e2c66dcdc11012d66</td>\n",
       "      <td>STATUE</td>\n",
       "      <td>106355.0</td>\n",
       "      <td>4020001</td>\n",
       "      <td>POINT (465376.126 299526.990)</td>\n",
       "    </tr>\n",
       "    <tr>\n",
       "      <th>1148814</th>\n",
       "      <td>58b2730d2c66dc81190ee14e_106355.0_4020001</td>\n",
       "      <td>58b2730d2c66dc81190ee14e</td>\n",
       "      <td>PARLY. CO. DIV. BY.</td>\n",
       "      <td>106355.0</td>\n",
       "      <td>4020001</td>\n",
       "      <td>POINT (465633.412 299476.772)</td>\n",
       "    </tr>\n",
       "  </tbody>\n",
       "</table>\n",
       "<p>1148815 rows × 6 columns</p>\n",
       "</div>"
      ],
      "text/plain": [
       "                                    gb1900_EW_1901                    pin_id  \\\n",
       "0        52d73146c4931d000e00b112_111267.0_3520002  52d73146c4931d000e00b112   \n",
       "1        52d731e3c4931d000800a2a0_111267.0_3520002  52d731e3c4931d000800a2a0   \n",
       "2        53f75f10e678ef000b00024c_111267.0_3520002  53f75f10e678ef000b00024c   \n",
       "3        54a036ecbad6480008001405_111267.0_3520002  54a036ecbad6480008001405   \n",
       "4        54a03719bad6480008001409_111267.0_3520002  54a03719bad6480008001409   \n",
       "...                                            ...                       ...   \n",
       "1148810  58278e122c66dcdc11012d4c_106355.0_4020001  58278e122c66dcdc11012d4c   \n",
       "1148811  58278e1b2c66dcdc11012d54_106355.0_4020001  58278e1b2c66dcdc11012d54   \n",
       "1148812  58278e252c66dcdc11012d5e_106355.0_4020001  58278e252c66dcdc11012d5e   \n",
       "1148813  58278e2e2c66dcdc11012d66_106355.0_4020001  58278e2e2c66dcdc11012d66   \n",
       "1148814  58b2730d2c66dc81190ee14e_106355.0_4020001  58b2730d2c66dc81190ee14e   \n",
       "\n",
       "                  final_text  conparid_01-11  CEN_1901  \\\n",
       "0                   VICARAGE        111267.0   3520002   \n",
       "1             POLICE STATION        111267.0   3520002   \n",
       "2                  TY-NEWYDD        111267.0   3520002   \n",
       "3                 OLD QUARRY        111267.0   3520002   \n",
       "4                  HÊN GRAIG        111267.0   3520002   \n",
       "...                      ...             ...       ...   \n",
       "1148810               PILLAR        106355.0   4020001   \n",
       "1148811               STATUE        106355.0   4020001   \n",
       "1148812        STRETTON HALL        106355.0   4020001   \n",
       "1148813               STATUE        106355.0   4020001   \n",
       "1148814  PARLY. CO. DIV. BY.        106355.0   4020001   \n",
       "\n",
       "                              geometry  \n",
       "0        POINT (320949.215 328423.258)  \n",
       "1        POINT (320974.573 328029.188)  \n",
       "2        POINT (320859.559 327007.848)  \n",
       "3        POINT (318164.826 331096.321)  \n",
       "4        POINT (317350.625 330882.680)  \n",
       "...                                ...  \n",
       "1148810  POINT (465396.739 299670.842)  \n",
       "1148811  POINT (465380.701 299619.869)  \n",
       "1148812  POINT (465352.035 299589.030)  \n",
       "1148813  POINT (465376.126 299526.990)  \n",
       "1148814  POINT (465633.412 299476.772)  \n",
       "\n",
       "[1148815 rows x 6 columns]"
      ]
     },
     "execution_count": 23,
     "metadata": {},
     "output_type": "execute_result"
    }
   ],
   "source": [
    "geom_data"
   ]
  },
  {
   "cell_type": "code",
   "execution_count": 32,
   "metadata": {},
   "outputs": [],
   "source": [
    "test = pd.merge(left = geom_linked, right = geom_data[[\"gb1900_EW_1901\", \"final_text\"]], on = \"gb1900_EW_1901\",how=\"left\")"
   ]
  },
  {
   "cell_type": "code",
   "execution_count": 41,
   "metadata": {},
   "outputs": [
    {
     "data": {
      "text/plain": [
       "1.0"
      ]
     },
     "execution_count": 41,
     "metadata": {},
     "output_type": "execute_result"
    }
   ],
   "source": [
    "test[\"rapidfuzzy_wratio_s\"].median()"
   ]
  },
  {
   "cell_type": "code",
   "execution_count": 27,
   "metadata": {},
   "outputs": [
    {
     "data": {
      "text/plain": [
       "HIGH STREET          278075\n",
       "CHURCH STREET         80538\n",
       "STREET                56351\n",
       "WEST STREET           52212\n",
       "NEW STREET            51303\n",
       "STATION ROAD          50697\n",
       "KING STREET           48755\n",
       "GEORGE STREET         47259\n",
       "CHURCH                46825\n",
       "QUEEN STREET          46782\n",
       "PARK ROAD             45182\n",
       "NEW ROAD              43754\n",
       "VICTORIA ROAD         42595\n",
       "LONDON ROAD           40347\n",
       "NORTH STREET          40239\n",
       "PARK STREET           38733\n",
       "BRIDGE STREET         37658\n",
       "EAST STREET           37445\n",
       "VICTORIA STREET       35855\n",
       "QUEEN'S ROAD          33889\n",
       "SOUTH STREET          30699\n",
       "ALBERT ROAD           30415\n",
       "CHAPEL STREET         30048\n",
       "ALBERT STREET         29336\n",
       "MARKET STREET         28966\n",
       "OXFORD STREET         28735\n",
       "WILLIAM STREET        28413\n",
       "UNION STREET          28254\n",
       "SCHOOL                27878\n",
       "WELLINGTON STREET     27856\n",
       "CHURCH ROAD           27687\n",
       "RECTORY               25679\n",
       "BROOK STREET          25596\n",
       "JOHN STREET           24624\n",
       "DUKE STREET           24331\n",
       "CHARLES STREET        23784\n",
       "HILL STREET           23537\n",
       "CASTLE STREET         23230\n",
       "JAMES STREET          22801\n",
       "WOOD STREET           22794\n",
       "Name: final_text, dtype: int64"
      ]
     },
     "execution_count": 27,
     "metadata": {},
     "output_type": "execute_result"
    }
   ],
   "source": [
    "test[\"final_text\"].value_counts().nlargest(40)"
   ]
  },
  {
   "cell_type": "code",
   "execution_count": null,
   "metadata": {},
   "outputs": [],
   "source": []
  }
 ],
 "metadata": {
  "kernelspec": {
   "display_name": "geocoder_py38",
   "language": "python",
   "name": "python3"
  },
  "language_info": {
   "codemirror_mode": {
    "name": "ipython",
    "version": 3
   },
   "file_extension": ".py",
   "mimetype": "text/x-python",
   "name": "python",
   "nbconvert_exporter": "python",
   "pygments_lexer": "ipython3",
   "version": "3.8.15 (default, Nov 24 2022, 09:04:07) \n[Clang 14.0.6 ]"
  },
  "orig_nbformat": 4,
  "vscode": {
   "interpreter": {
    "hash": "688b413937454cc165bcbcf119d6e8759a6eb50e652ed7b4e61b10aeaefa940a"
   }
  }
 },
 "nbformat": 4,
 "nbformat_minor": 2
}
