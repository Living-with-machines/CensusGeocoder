{
 "cells": [
  {
   "cell_type": "code",
   "execution_count": 1,
   "metadata": {},
   "outputs": [],
   "source": [
    "import pandas as pd"
   ]
  },
  {
   "cell_type": "code",
   "execution_count": 42,
   "metadata": {},
   "outputs": [],
   "source": [
    "year = 1891\n",
    "cen = f\"CEN_{year}\"\n",
    "config = {\n",
    "# \"cen_parid_field\": \"ParID\",\n",
    "# \"rsd_id_field\": \"CEN_1901\",\n",
    "\"encoding\": \"utf-8\",\n",
    "\"sep\": \"\\t\",\n",
    "\"quoting\": 3,\n",
    "\"usecols\":[cen, \"POP\", \"AREA\"]}\n",
    "\n",
    "filepath =  f\"input/ew/parish_dicts_encoding/{year}_ICeM_DICTIONARY_CODED.txt\""
   ]
  },
  {
   "cell_type": "code",
   "execution_count": 43,
   "metadata": {},
   "outputs": [
    {
     "data": {
      "text/html": [
       "<div>\n",
       "<style scoped>\n",
       "    .dataframe tbody tr th:only-of-type {\n",
       "        vertical-align: middle;\n",
       "    }\n",
       "\n",
       "    .dataframe tbody tr th {\n",
       "        vertical-align: top;\n",
       "    }\n",
       "\n",
       "    .dataframe thead th {\n",
       "        text-align: right;\n",
       "    }\n",
       "</style>\n",
       "<table border=\"1\" class=\"dataframe\">\n",
       "  <thead>\n",
       "    <tr style=\"text-align: right;\">\n",
       "      <th></th>\n",
       "      <th>CEN_1891</th>\n",
       "      <th>AREA</th>\n",
       "      <th>POP</th>\n",
       "    </tr>\n",
       "  </thead>\n",
       "  <tbody>\n",
       "    <tr>\n",
       "      <th>0</th>\n",
       "      <td>10101</td>\n",
       "      <td>809.0</td>\n",
       "      <td>84159</td>\n",
       "    </tr>\n",
       "    <tr>\n",
       "      <th>1</th>\n",
       "      <td>10102</td>\n",
       "      <td>447.0</td>\n",
       "      <td>33687</td>\n",
       "    </tr>\n",
       "    <tr>\n",
       "      <th>2</th>\n",
       "      <td>10201</td>\n",
       "      <td>1487.0</td>\n",
       "      <td>118751</td>\n",
       "    </tr>\n",
       "    <tr>\n",
       "      <th>3</th>\n",
       "      <td>10202</td>\n",
       "      <td>701.0</td>\n",
       "      <td>47557</td>\n",
       "    </tr>\n",
       "    <tr>\n",
       "      <th>4</th>\n",
       "      <td>20001</td>\n",
       "      <td>185.0</td>\n",
       "      <td>8586</td>\n",
       "    </tr>\n",
       "    <tr>\n",
       "      <th>...</th>\n",
       "      <td>...</td>\n",
       "      <td>...</td>\n",
       "      <td>...</td>\n",
       "    </tr>\n",
       "    <tr>\n",
       "      <th>15108</th>\n",
       "      <td>6310002</td>\n",
       "      <td>2154.0</td>\n",
       "      <td>505</td>\n",
       "    </tr>\n",
       "    <tr>\n",
       "      <th>15109</th>\n",
       "      <td>6310002</td>\n",
       "      <td>1044.0</td>\n",
       "      <td>296</td>\n",
       "    </tr>\n",
       "    <tr>\n",
       "      <th>15110</th>\n",
       "      <td>6310002</td>\n",
       "      <td>1826.0</td>\n",
       "      <td>168</td>\n",
       "    </tr>\n",
       "    <tr>\n",
       "      <th>15111</th>\n",
       "      <td>6310003</td>\n",
       "      <td>2253.0</td>\n",
       "      <td>400</td>\n",
       "    </tr>\n",
       "    <tr>\n",
       "      <th>15112</th>\n",
       "      <td>6310003</td>\n",
       "      <td>6293.0</td>\n",
       "      <td>9610</td>\n",
       "    </tr>\n",
       "  </tbody>\n",
       "</table>\n",
       "<p>15113 rows × 3 columns</p>\n",
       "</div>"
      ],
      "text/plain": [
       "       CEN_1891    AREA     POP\n",
       "0         10101   809.0   84159\n",
       "1         10102   447.0   33687\n",
       "2         10201  1487.0  118751\n",
       "3         10202   701.0   47557\n",
       "4         20001   185.0    8586\n",
       "...         ...     ...     ...\n",
       "15108   6310002  2154.0     505\n",
       "15109   6310002  1044.0     296\n",
       "15110   6310002  1826.0     168\n",
       "15111   6310003  2253.0     400\n",
       "15112   6310003  6293.0    9610\n",
       "\n",
       "[15113 rows x 3 columns]"
      ]
     },
     "execution_count": 43,
     "metadata": {},
     "output_type": "execute_result"
    }
   ],
   "source": [
    "rsd = pd.read_csv(filepath, **config)\n",
    "rsd"
   ]
  },
  {
   "cell_type": "code",
   "execution_count": 44,
   "metadata": {},
   "outputs": [
    {
     "data": {
      "text/plain": [
       "15942.5"
      ]
     },
     "execution_count": 44,
     "metadata": {},
     "output_type": "execute_result"
    }
   ],
   "source": [
    "rsd.groupby(cen)[\"AREA\"].sum().median()\n"
   ]
  },
  {
   "cell_type": "code",
   "execution_count": null,
   "metadata": {},
   "outputs": [],
   "source": []
  }
 ],
 "metadata": {
  "kernelspec": {
   "display_name": "geocoder_py38",
   "language": "python",
   "name": "python3"
  },
  "language_info": {
   "codemirror_mode": {
    "name": "ipython",
    "version": 3
   },
   "file_extension": ".py",
   "mimetype": "text/x-python",
   "name": "python",
   "nbconvert_exporter": "python",
   "pygments_lexer": "ipython3",
   "version": "3.8.15"
  },
  "orig_nbformat": 4,
  "vscode": {
   "interpreter": {
    "hash": "688b413937454cc165bcbcf119d6e8759a6eb50e652ed7b4e61b10aeaefa940a"
   }
  }
 },
 "nbformat": 4,
 "nbformat_minor": 2
}
