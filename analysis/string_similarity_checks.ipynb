{
 "cells": [
  {
   "cell_type": "code",
   "execution_count": 1,
   "metadata": {},
   "outputs": [],
   "source": [
    "import pandas as pd"
   ]
  },
  {
   "cell_type": "code",
   "execution_count": 25,
   "metadata": {},
   "outputs": [
    {
     "name": "stdout",
     "output_type": "stream",
     "text": [
      "1851 EW\n"
     ]
    }
   ],
   "source": [
    "census_csv_params = {\n",
    "\t\"sep\": \"\\t\",\n",
    "\t\"encoding\": \"latin-1\",\n",
    "\t\"quoting\": 3,\n",
    "\t\"na_values\": [\".\", \" \"],\n",
    "\t\"usecols\": [\"RecID\", \"Age\", \"Sex\", \"Occode\", \"ParID\", \"Servts\", \"Country\"], #add other columns from census here\n",
    "\t# \"nrows\":10000\n",
    "}\n",
    "\n",
    "list_of_census = [\n",
    "    \"EW_1851\",\n",
    "    # \"EW_1861\",\n",
    "    # \"EW_1881\",\n",
    "    # \"EW_1891\",\n",
    "    # \"EW_1901\",\n",
    "    # \"EW_1911\"\n",
    "]\n",
    "\n",
    "# list_of_census = [\n",
    "#     \"SCOT_1851\",\n",
    "#     \"SCOT_1861\",\n",
    "#     \"SCOT_1871\",\n",
    "#     \"SCOT_1881\",\n",
    "#     \"SCOT_1891\",\n",
    "#     \"SCOT_1901\"\n",
    "# ]\n",
    "\n",
    "analysis_list = []\n",
    "\n",
    "for census in list_of_census:\n",
    "\tcountry = census.split(\"_\")[0]\n",
    "\tyear = census.split(\"_\")[1]\n",
    "\tprint(year, country)\n",
    "\n",
    "\t# if country == \"EW\" and year in [\"1851\", \"1861\"]:\n",
    "\t# \tsuffix = \"_v1\"\n",
    "\t# else:\n",
    "\t# \tsuffix = \"\"\n",
    "\n",
    "\t# full_census = pd.read_csv(f\"/Users/wknq25/Documents/icem/{country}{str(year)[-2:]}outputfile{suffix}.txt\",**census_csv_params)\n",
    "\t# print(full_census)\n",
    "\tgeocode_output = pd.read_csv(f\"analysis_geom_test/{year}/{country}/link_lkup_merged_geoms.tsv\", sep = \"\\t\", usecols = [\"RecID\", \"rapidfuzzy_wratio_s_x\", \"rapidfuzzy_wratio_s_y\", \"geocode\"])\n",
    "\tgeocode_output = geocode_output.rename(columns = {\"rapidfuzzy_wratio_s_x\":\"os_open_roads_score\", \"rapidfuzzy_wratio_s_y\":\"gb1900_score\"})"
   ]
  },
  {
   "cell_type": "code",
   "execution_count": 22,
   "metadata": {},
   "outputs": [
    {
     "data": {
      "text/plain": [
       "count    7.028884e+06\n",
       "mean     9.476569e-01\n",
       "std      5.856471e-02\n",
       "min      8.500000e-01\n",
       "25%      9.000000e-01\n",
       "50%      1.000000e+00\n",
       "75%      1.000000e+00\n",
       "max      1.000000e+00\n",
       "Name: os_open_roads_score, dtype: float64"
      ]
     },
     "execution_count": 22,
     "metadata": {},
     "output_type": "execute_result"
    }
   ],
   "source": [
    "geocode_output[\"os_open_roads_score\"].describe()"
   ]
  },
  {
   "cell_type": "code",
   "execution_count": 23,
   "metadata": {},
   "outputs": [
    {
     "data": {
      "text/html": [
       "<div>\n",
       "<style scoped>\n",
       "    .dataframe tbody tr th:only-of-type {\n",
       "        vertical-align: middle;\n",
       "    }\n",
       "\n",
       "    .dataframe tbody tr th {\n",
       "        vertical-align: top;\n",
       "    }\n",
       "\n",
       "    .dataframe thead th {\n",
       "        text-align: right;\n",
       "    }\n",
       "</style>\n",
       "<table border=\"1\" class=\"dataframe\">\n",
       "  <thead>\n",
       "    <tr style=\"text-align: right;\">\n",
       "      <th></th>\n",
       "      <th>unique_add_id_x</th>\n",
       "      <th>os_open_roads_score</th>\n",
       "      <th>gb1900_score</th>\n",
       "      <th>geocode</th>\n",
       "    </tr>\n",
       "  </thead>\n",
       "  <tbody>\n",
       "    <tr>\n",
       "      <th>0</th>\n",
       "      <td>BASINGSTOKE ROAD_1254_1190002</td>\n",
       "      <td>NaN</td>\n",
       "      <td>NaN</td>\n",
       "      <td>not_linked</td>\n",
       "    </tr>\n",
       "    <tr>\n",
       "      <th>2</th>\n",
       "      <td>WASING PLACE_1254_1200001</td>\n",
       "      <td>0.869565</td>\n",
       "      <td>1.000000</td>\n",
       "      <td>both</td>\n",
       "    </tr>\n",
       "    <tr>\n",
       "      <th>23</th>\n",
       "      <td>_1254_1200001</td>\n",
       "      <td>NaN</td>\n",
       "      <td>NaN</td>\n",
       "      <td>not_linked</td>\n",
       "    </tr>\n",
       "    <tr>\n",
       "      <th>31</th>\n",
       "      <td>WASING UPPER FARM_1254_1200001</td>\n",
       "      <td>0.855000</td>\n",
       "      <td>NaN</td>\n",
       "      <td>os_open_roads</td>\n",
       "    </tr>\n",
       "    <tr>\n",
       "      <th>39</th>\n",
       "      <td>WASING RECTORY_1254_1200001</td>\n",
       "      <td>NaN</td>\n",
       "      <td>NaN</td>\n",
       "      <td>not_linked</td>\n",
       "    </tr>\n",
       "    <tr>\n",
       "      <th>...</th>\n",
       "      <td>...</td>\n",
       "      <td>...</td>\n",
       "      <td>...</td>\n",
       "      <td>...</td>\n",
       "    </tr>\n",
       "    <tr>\n",
       "      <th>17498919</th>\n",
       "      <td>CATTERSTONE DAIRY LANE_4668_2780003</td>\n",
       "      <td>NaN</td>\n",
       "      <td>NaN</td>\n",
       "      <td>not_linked</td>\n",
       "    </tr>\n",
       "    <tr>\n",
       "      <th>17498923</th>\n",
       "      <td>CATTERSTONE ANN HOUSE_4668_2780003</td>\n",
       "      <td>NaN</td>\n",
       "      <td>0.855000</td>\n",
       "      <td>gb1900</td>\n",
       "    </tr>\n",
       "    <tr>\n",
       "      <th>17498931</th>\n",
       "      <td>MANNER HOUSE_4668_2780003</td>\n",
       "      <td>NaN</td>\n",
       "      <td>0.869565</td>\n",
       "      <td>gb1900</td>\n",
       "    </tr>\n",
       "    <tr>\n",
       "      <th>17498937</th>\n",
       "      <td>CATHERSTONE COTTAGE_4668_2780003</td>\n",
       "      <td>NaN</td>\n",
       "      <td>0.947368</td>\n",
       "      <td>gb1900</td>\n",
       "    </tr>\n",
       "    <tr>\n",
       "      <th>17498949</th>\n",
       "      <td>CHARMOUTH GATE_4668_2780003</td>\n",
       "      <td>NaN</td>\n",
       "      <td>NaN</td>\n",
       "      <td>not_linked</td>\n",
       "    </tr>\n",
       "  </tbody>\n",
       "</table>\n",
       "<p>508862 rows × 4 columns</p>\n",
       "</div>"
      ],
      "text/plain": [
       "                              unique_add_id_x  os_open_roads_score  \\\n",
       "0               BASINGSTOKE ROAD_1254_1190002                  NaN   \n",
       "2                   WASING PLACE_1254_1200001             0.869565   \n",
       "23                              _1254_1200001                  NaN   \n",
       "31             WASING UPPER FARM_1254_1200001             0.855000   \n",
       "39                WASING RECTORY_1254_1200001                  NaN   \n",
       "...                                       ...                  ...   \n",
       "17498919  CATTERSTONE DAIRY LANE_4668_2780003                  NaN   \n",
       "17498923   CATTERSTONE ANN HOUSE_4668_2780003                  NaN   \n",
       "17498931            MANNER HOUSE_4668_2780003                  NaN   \n",
       "17498937     CATHERSTONE COTTAGE_4668_2780003                  NaN   \n",
       "17498949          CHARMOUTH GATE_4668_2780003                  NaN   \n",
       "\n",
       "          gb1900_score        geocode  \n",
       "0                  NaN     not_linked  \n",
       "2             1.000000           both  \n",
       "23                 NaN     not_linked  \n",
       "31                 NaN  os_open_roads  \n",
       "39                 NaN     not_linked  \n",
       "...                ...            ...  \n",
       "17498919           NaN     not_linked  \n",
       "17498923      0.855000         gb1900  \n",
       "17498931      0.869565         gb1900  \n",
       "17498937      0.947368         gb1900  \n",
       "17498949           NaN     not_linked  \n",
       "\n",
       "[508862 rows x 4 columns]"
      ]
     },
     "execution_count": 23,
     "metadata": {},
     "output_type": "execute_result"
    }
   ],
   "source": [
    "geocode_output = geocode_output.drop_duplicates()\n",
    "geocode_output"
   ]
  },
  {
   "cell_type": "code",
   "execution_count": 24,
   "metadata": {},
   "outputs": [
    {
     "data": {
      "text/plain": [
       "count    121252.000000\n",
       "mean          0.912789\n",
       "std           0.053650\n",
       "min           0.850000\n",
       "25%           0.855000\n",
       "50%           0.900000\n",
       "75%           0.950000\n",
       "max           1.000000\n",
       "Name: os_open_roads_score, dtype: float64"
      ]
     },
     "execution_count": 24,
     "metadata": {},
     "output_type": "execute_result"
    }
   ],
   "source": [
    "#address only\n",
    "geocode_output[\"os_open_roads_score\"].describe()"
   ]
  },
  {
   "cell_type": "code",
   "execution_count": 27,
   "metadata": {},
   "outputs": [
    {
     "data": {
      "text/plain": [
       "count    7028884.00\n",
       "mean           0.95\n",
       "std            0.06\n",
       "min            0.85\n",
       "25%            0.90\n",
       "50%            1.00\n",
       "75%            1.00\n",
       "max            1.00\n",
       "Name: os_open_roads_score, dtype: float64"
      ]
     },
     "execution_count": 27,
     "metadata": {},
     "output_type": "execute_result"
    }
   ],
   "source": [
    "geocode_output[\"os_open_roads_score\"].describe().round(2)"
   ]
  },
  {
   "cell_type": "code",
   "execution_count": null,
   "metadata": {},
   "outputs": [],
   "source": []
  }
 ],
 "metadata": {
  "kernelspec": {
   "display_name": "geocoder_py38",
   "language": "python",
   "name": "python3"
  },
  "language_info": {
   "codemirror_mode": {
    "name": "ipython",
    "version": 3
   },
   "file_extension": ".py",
   "mimetype": "text/x-python",
   "name": "python",
   "nbconvert_exporter": "python",
   "pygments_lexer": "ipython3",
   "version": "3.8.15"
  },
  "orig_nbformat": 4,
  "vscode": {
   "interpreter": {
    "hash": "688b413937454cc165bcbcf119d6e8759a6eb50e652ed7b4e61b10aeaefa940a"
   }
  }
 },
 "nbformat": 4,
 "nbformat_minor": 2
}
