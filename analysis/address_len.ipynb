{
 "cells": [
  {
   "cell_type": "code",
   "execution_count": 1,
   "metadata": {},
   "outputs": [],
   "source": [
    "import pandas as pd"
   ]
  },
  {
   "cell_type": "code",
   "execution_count": 14,
   "metadata": {},
   "outputs": [],
   "source": [
    "census_csv_params = {\n",
    "\t\"sep\": \"\\t\",\n",
    "\t\"encoding\": \"latin-1\",\n",
    "\t\"quoting\": 3,\n",
    "\t\"na_values\": [\".\", \" \"],\n",
    "\t\"usecols\": [\"add_anon\"], #add other columns from census here\n",
    "\t# \"nrows\":10000\n",
    "}"
   ]
  },
  {
   "cell_type": "code",
   "execution_count": 19,
   "metadata": {},
   "outputs": [],
   "source": [
    "census = pd.read_csv(f\"input/census/EW1911_geocode_egress_2022_11_03_recid_corrected.txt\",**census_csv_params)"
   ]
  },
  {
   "cell_type": "code",
   "execution_count": 20,
   "metadata": {},
   "outputs": [
    {
     "data": {
      "text/html": [
       "<div>\n",
       "<style scoped>\n",
       "    .dataframe tbody tr th:only-of-type {\n",
       "        vertical-align: middle;\n",
       "    }\n",
       "\n",
       "    .dataframe tbody tr th {\n",
       "        vertical-align: top;\n",
       "    }\n",
       "\n",
       "    .dataframe thead th {\n",
       "        text-align: right;\n",
       "    }\n",
       "</style>\n",
       "<table border=\"1\" class=\"dataframe\">\n",
       "  <thead>\n",
       "    <tr style=\"text-align: right;\">\n",
       "      <th></th>\n",
       "      <th>add_anon</th>\n",
       "    </tr>\n",
       "  </thead>\n",
       "  <tbody>\n",
       "    <tr>\n",
       "      <th>0</th>\n",
       "      <td>LADBROKE GROVE PADDINGTON</td>\n",
       "    </tr>\n",
       "    <tr>\n",
       "      <th>122</th>\n",
       "      <td>ST JOHN'S VICARAGE KENSAL GREEN PADDINGTON</td>\n",
       "    </tr>\n",
       "    <tr>\n",
       "      <th>125</th>\n",
       "      <td>ST JOHN'S SCHOOL HOUSE KENSAL GREEN PADDINGTON</td>\n",
       "    </tr>\n",
       "    <tr>\n",
       "      <th>127</th>\n",
       "      <td>ST JOHNS CARETAKERS HOUSE PADDINGTON</td>\n",
       "    </tr>\n",
       "    <tr>\n",
       "      <th>129</th>\n",
       "      <td>ST JOHN'S BUILDINGS KENSAL GREEN PADDINGTON</td>\n",
       "    </tr>\n",
       "    <tr>\n",
       "      <th>...</th>\n",
       "      <td>...</td>\n",
       "    </tr>\n",
       "    <tr>\n",
       "      <th>36350555</th>\n",
       "      <td>TOWN ARSENAL JERSEY C ISLANDS</td>\n",
       "    </tr>\n",
       "    <tr>\n",
       "      <th>36350570</th>\n",
       "      <td>TWON ARSENAL JERSEY ISLANDS</td>\n",
       "    </tr>\n",
       "    <tr>\n",
       "      <th>36351080</th>\n",
       "      <td>ST PETER'S ARSENAL JERSEY C I</td>\n",
       "    </tr>\n",
       "    <tr>\n",
       "      <th>36351141</th>\n",
       "      <td>GROUNVILE ARSENAL JERSEY</td>\n",
       "    </tr>\n",
       "    <tr>\n",
       "      <th>36351157</th>\n",
       "      <td>GROUNVILLE ARSENAL JERSEY</td>\n",
       "    </tr>\n",
       "  </tbody>\n",
       "</table>\n",
       "<p>1557274 rows × 1 columns</p>\n",
       "</div>"
      ],
      "text/plain": [
       "                                                add_anon\n",
       "0                              LADBROKE GROVE PADDINGTON\n",
       "122           ST JOHN'S VICARAGE KENSAL GREEN PADDINGTON\n",
       "125       ST JOHN'S SCHOOL HOUSE KENSAL GREEN PADDINGTON\n",
       "127                 ST JOHNS CARETAKERS HOUSE PADDINGTON\n",
       "129          ST JOHN'S BUILDINGS KENSAL GREEN PADDINGTON\n",
       "...                                                  ...\n",
       "36350555                   TOWN ARSENAL JERSEY C ISLANDS\n",
       "36350570                     TWON ARSENAL JERSEY ISLANDS\n",
       "36351080                   ST PETER'S ARSENAL JERSEY C I\n",
       "36351141                        GROUNVILE ARSENAL JERSEY\n",
       "36351157                       GROUNVILLE ARSENAL JERSEY\n",
       "\n",
       "[1557274 rows x 1 columns]"
      ]
     },
     "execution_count": 20,
     "metadata": {},
     "output_type": "execute_result"
    }
   ],
   "source": [
    "census = census.drop_duplicates()\n",
    "census"
   ]
  },
  {
   "cell_type": "code",
   "execution_count": 22,
   "metadata": {},
   "outputs": [
    {
     "data": {
      "text/plain": [
       "30.396670975480856"
      ]
     },
     "execution_count": 22,
     "metadata": {},
     "output_type": "execute_result"
    }
   ],
   "source": [
    "census[\"add_anon\"].str.len().mean()"
   ]
  },
  {
   "cell_type": "code",
   "execution_count": null,
   "metadata": {},
   "outputs": [],
   "source": []
  }
 ],
 "metadata": {
  "kernelspec": {
   "display_name": "geocoder_py38",
   "language": "python",
   "name": "python3"
  },
  "language_info": {
   "codemirror_mode": {
    "name": "ipython",
    "version": 3
   },
   "file_extension": ".py",
   "mimetype": "text/x-python",
   "name": "python",
   "nbconvert_exporter": "python",
   "pygments_lexer": "ipython3",
   "version": "3.8.15"
  },
  "orig_nbformat": 4,
  "vscode": {
   "interpreter": {
    "hash": "688b413937454cc165bcbcf119d6e8759a6eb50e652ed7b4e61b10aeaefa940a"
   }
  }
 },
 "nbformat": 4,
 "nbformat_minor": 2
}
