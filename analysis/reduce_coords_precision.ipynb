{
 "cells": [
  {
   "cell_type": "code",
   "execution_count": 1,
   "metadata": {},
   "outputs": [
    {
     "name": "stderr",
     "output_type": "stream",
     "text": [
      "/Users/wknq25/opt/anaconda3/envs/geocoder_py38/lib/python3.8/site-packages/geopandas/_compat.py:123: UserWarning: The Shapely GEOS version (3.11.1-CAPI-1.17.1) is incompatible with the GEOS version PyGEOS was compiled with (3.10.4-CAPI-1.16.2). Conversions between both will be slow.\n",
      "  warnings.warn(\n",
      "/var/folders/fg/_n1n9v7x7x1bk7m6gwfkv97m0000gp/T/ipykernel_4147/1754284520.py:1: UserWarning: Shapely 2.0 is installed, but because PyGEOS is also installed, GeoPandas will still use PyGEOS by default for now. To force to use and test Shapely 2.0, you have to set the environment variable USE_PYGEOS=0. You can do this before starting the Python process, or in your code before importing geopandas:\n",
      "\n",
      "import os\n",
      "os.environ['USE_PYGEOS'] = '0'\n",
      "import geopandas\n",
      "\n",
      "In a future release, GeoPandas will switch to using Shapely by default. If you are using PyGEOS directly (calling PyGEOS functions on geometries from GeoPandas), this will then stop working and you are encouraged to migrate from PyGEOS to Shapely 2.0 (https://shapely.readthedocs.io/en/latest/migration_pygeos.html).\n",
      "  import geopandas as gpd\n"
     ]
    }
   ],
   "source": [
    "import geopandas as gpd\n",
    "import shapely"
   ]
  },
  {
   "cell_type": "code",
   "execution_count": 70,
   "metadata": {},
   "outputs": [
    {
     "data": {
      "text/html": [
       "<div>\n",
       "<style scoped>\n",
       "    .dataframe tbody tr th:only-of-type {\n",
       "        vertical-align: middle;\n",
       "    }\n",
       "\n",
       "    .dataframe tbody tr th {\n",
       "        vertical-align: top;\n",
       "    }\n",
       "\n",
       "    .dataframe thead th {\n",
       "        text-align: right;\n",
       "    }\n",
       "</style>\n",
       "<table border=\"1\" class=\"dataframe\">\n",
       "  <thead>\n",
       "    <tr style=\"text-align: right;\">\n",
       "      <th></th>\n",
       "      <th>tmp_id</th>\n",
       "      <th>conparid_01-11</th>\n",
       "      <th>CEN_1901</th>\n",
       "      <th>geometry</th>\n",
       "    </tr>\n",
       "  </thead>\n",
       "  <tbody>\n",
       "    <tr>\n",
       "      <th>0</th>\n",
       "      <td>100001_10101</td>\n",
       "      <td>100001</td>\n",
       "      <td>10101</td>\n",
       "      <td>POLYGON ((524683.875 183095.672, 524726.071 18...</td>\n",
       "    </tr>\n",
       "    <tr>\n",
       "      <th>1</th>\n",
       "      <td>100001_10102</td>\n",
       "      <td>100001</td>\n",
       "      <td>10102</td>\n",
       "      <td>POLYGON ((527302.875 181432.797, 527361.937 18...</td>\n",
       "    </tr>\n",
       "    <tr>\n",
       "      <th>2</th>\n",
       "      <td>100001_10103</td>\n",
       "      <td>100001</td>\n",
       "      <td>10103</td>\n",
       "      <td>POLYGON ((523827.281 182465.766, 523830.594 18...</td>\n",
       "    </tr>\n",
       "    <tr>\n",
       "      <th>3</th>\n",
       "      <td>100001_10201</td>\n",
       "      <td>100001</td>\n",
       "      <td>10201</td>\n",
       "      <td>POLYGON ((523225.562 182673.844, 523386.250 18...</td>\n",
       "    </tr>\n",
       "    <tr>\n",
       "      <th>4</th>\n",
       "      <td>100001_10202</td>\n",
       "      <td>100001</td>\n",
       "      <td>10202</td>\n",
       "      <td>POLYGON ((527754.312 179632.297, 527724.438 17...</td>\n",
       "    </tr>\n",
       "  </tbody>\n",
       "</table>\n",
       "</div>"
      ],
      "text/plain": [
       "         tmp_id  conparid_01-11  CEN_1901  \\\n",
       "0  100001_10101          100001     10101   \n",
       "1  100001_10102          100001     10102   \n",
       "2  100001_10103          100001     10103   \n",
       "3  100001_10201          100001     10201   \n",
       "4  100001_10202          100001     10202   \n",
       "\n",
       "                                            geometry  \n",
       "0  POLYGON ((524683.875 183095.672, 524726.071 18...  \n",
       "1  POLYGON ((527302.875 181432.797, 527361.937 18...  \n",
       "2  POLYGON ((523827.281 182465.766, 523830.594 18...  \n",
       "3  POLYGON ((523225.562 182673.844, 523386.250 18...  \n",
       "4  POLYGON ((527754.312 179632.297, 527724.438 17...  "
      ]
     },
     "execution_count": 70,
     "metadata": {},
     "output_type": "execute_result"
    }
   ],
   "source": [
    "boundaries = gpd.read_file(\"output_alignment_test3/1901/EW/1901_EW_boundary.geojson\")\n",
    "boundaries.head()"
   ]
  },
  {
   "cell_type": "code",
   "execution_count": 71,
   "metadata": {},
   "outputs": [],
   "source": [
    "boundaries[\"geometry\"] = boundaries[\"geometry\"].apply(lambda x: shapely.wkt.loads(shapely.wkt.dumps(x, rounding_precision=3)))"
   ]
  },
  {
   "cell_type": "code",
   "execution_count": 28,
   "metadata": {},
   "outputs": [
    {
     "data": {
      "text/html": [
       "<div>\n",
       "<style scoped>\n",
       "    .dataframe tbody tr th:only-of-type {\n",
       "        vertical-align: middle;\n",
       "    }\n",
       "\n",
       "    .dataframe tbody tr th {\n",
       "        vertical-align: top;\n",
       "    }\n",
       "\n",
       "    .dataframe thead th {\n",
       "        text-align: right;\n",
       "    }\n",
       "</style>\n",
       "<table border=\"1\" class=\"dataframe\">\n",
       "  <thead>\n",
       "    <tr style=\"text-align: right;\">\n",
       "      <th></th>\n",
       "      <th>tmp_id</th>\n",
       "      <th>conparid_01-11</th>\n",
       "      <th>CEN_1901</th>\n",
       "      <th>geometry</th>\n",
       "    </tr>\n",
       "  </thead>\n",
       "  <tbody>\n",
       "    <tr>\n",
       "      <th>0</th>\n",
       "      <td>100001_10101</td>\n",
       "      <td>100001</td>\n",
       "      <td>10101</td>\n",
       "      <td>POLYGON ((524683.875 183095.672, 524726.071 18...</td>\n",
       "    </tr>\n",
       "    <tr>\n",
       "      <th>1</th>\n",
       "      <td>100001_10102</td>\n",
       "      <td>100001</td>\n",
       "      <td>10102</td>\n",
       "      <td>POLYGON ((527302.875 181432.797, 527361.937 18...</td>\n",
       "    </tr>\n",
       "    <tr>\n",
       "      <th>2</th>\n",
       "      <td>100001_10103</td>\n",
       "      <td>100001</td>\n",
       "      <td>10103</td>\n",
       "      <td>POLYGON ((523827.281 182465.766, 523830.594 18...</td>\n",
       "    </tr>\n",
       "    <tr>\n",
       "      <th>3</th>\n",
       "      <td>100001_10201</td>\n",
       "      <td>100001</td>\n",
       "      <td>10201</td>\n",
       "      <td>POLYGON ((523225.562 182673.844, 523386.250 18...</td>\n",
       "    </tr>\n",
       "    <tr>\n",
       "      <th>4</th>\n",
       "      <td>100001_10202</td>\n",
       "      <td>100001</td>\n",
       "      <td>10202</td>\n",
       "      <td>POLYGON ((527754.312 179632.297, 527724.438 17...</td>\n",
       "    </tr>\n",
       "  </tbody>\n",
       "</table>\n",
       "</div>"
      ],
      "text/plain": [
       "         tmp_id  conparid_01-11  CEN_1901  \\\n",
       "0  100001_10101          100001     10101   \n",
       "1  100001_10102          100001     10102   \n",
       "2  100001_10103          100001     10103   \n",
       "3  100001_10201          100001     10201   \n",
       "4  100001_10202          100001     10202   \n",
       "\n",
       "                                            geometry  \n",
       "0  POLYGON ((524683.875 183095.672, 524726.071 18...  \n",
       "1  POLYGON ((527302.875 181432.797, 527361.937 18...  \n",
       "2  POLYGON ((523827.281 182465.766, 523830.594 18...  \n",
       "3  POLYGON ((523225.562 182673.844, 523386.250 18...  \n",
       "4  POLYGON ((527754.312 179632.297, 527724.438 17...  "
      ]
     },
     "execution_count": 28,
     "metadata": {},
     "output_type": "execute_result"
    }
   ],
   "source": [
    "boundaries.head()"
   ]
  },
  {
   "cell_type": "code",
   "execution_count": 29,
   "metadata": {},
   "outputs": [],
   "source": [
    "boundaries.to_file(\"1901_boundarytest.geojson\", driver = \"GeoJSON\")"
   ]
  },
  {
   "cell_type": "code",
   "execution_count": 64,
   "metadata": {},
   "outputs": [
    {
     "data": {
      "text/html": [
       "<div>\n",
       "<style scoped>\n",
       "    .dataframe tbody tr th:only-of-type {\n",
       "        vertical-align: middle;\n",
       "    }\n",
       "\n",
       "    .dataframe tbody tr th {\n",
       "        vertical-align: top;\n",
       "    }\n",
       "\n",
       "    .dataframe thead th {\n",
       "        text-align: right;\n",
       "    }\n",
       "</style>\n",
       "<table border=\"1\" class=\"dataframe\">\n",
       "  <thead>\n",
       "    <tr style=\"text-align: right;\">\n",
       "      <th></th>\n",
       "      <th>tmp_id</th>\n",
       "      <th>conparid_01-11</th>\n",
       "      <th>CEN_1901</th>\n",
       "      <th>geometry</th>\n",
       "    </tr>\n",
       "  </thead>\n",
       "  <tbody>\n",
       "    <tr>\n",
       "      <th>6110</th>\n",
       "      <td>102002_1700001</td>\n",
       "      <td>102002</td>\n",
       "      <td>1700001</td>\n",
       "      <td>POLYGON ((521354.031 265879.219, 521060.000 26...</td>\n",
       "    </tr>\n",
       "  </tbody>\n",
       "</table>\n",
       "</div>"
      ],
      "text/plain": [
       "              tmp_id  conparid_01-11  CEN_1901  \\\n",
       "6110  102002_1700001          102002   1700001   \n",
       "\n",
       "                                               geometry  \n",
       "6110  POLYGON ((521354.031 265879.219, 521060.000 26...  "
      ]
     },
     "execution_count": 64,
     "metadata": {},
     "output_type": "execute_result"
    }
   ],
   "source": [
    "test_sample = boundaries.sample(random_state=2)\n",
    "test_sample.head()"
   ]
  },
  {
   "cell_type": "code",
   "execution_count": 36,
   "metadata": {},
   "outputs": [
    {
     "name": "stdout",
     "output_type": "stream",
     "text": [
      "6110    POLYGON ((521354.03124999895 265879.2187499991...\n",
      "Name: geometry, dtype: object\n"
     ]
    }
   ],
   "source": [
    "print(test_sample[\"geometry\"].apply(lambda x: shapely.wkt.dumps(x, trim=True)))"
   ]
  },
  {
   "cell_type": "code",
   "execution_count": 67,
   "metadata": {},
   "outputs": [],
   "source": [
    "test_sample[\"geometry\"] = test_sample[\"geometry\"].apply(lambda x: shapely.wkt.loads(shapely.wkt.dumps(x, rounding_precision=3)))"
   ]
  },
  {
   "cell_type": "code",
   "execution_count": 72,
   "metadata": {},
   "outputs": [],
   "source": [
    "boundaries.to_csv(\"1901test.tsv\", sep =\"\\t\")"
   ]
  },
  {
   "cell_type": "code",
   "execution_count": 68,
   "metadata": {},
   "outputs": [
    {
     "data": {
      "text/html": [
       "<div>\n",
       "<style scoped>\n",
       "    .dataframe tbody tr th:only-of-type {\n",
       "        vertical-align: middle;\n",
       "    }\n",
       "\n",
       "    .dataframe tbody tr th {\n",
       "        vertical-align: top;\n",
       "    }\n",
       "\n",
       "    .dataframe thead th {\n",
       "        text-align: right;\n",
       "    }\n",
       "</style>\n",
       "<table border=\"1\" class=\"dataframe\">\n",
       "  <thead>\n",
       "    <tr style=\"text-align: right;\">\n",
       "      <th></th>\n",
       "      <th>tmp_id</th>\n",
       "      <th>conparid_01-11</th>\n",
       "      <th>CEN_1901</th>\n",
       "      <th>geometry</th>\n",
       "    </tr>\n",
       "  </thead>\n",
       "  <tbody>\n",
       "    <tr>\n",
       "      <th>6110</th>\n",
       "      <td>102002_1700001</td>\n",
       "      <td>102002</td>\n",
       "      <td>1700001</td>\n",
       "      <td>POLYGON ((521354.031 265879.219, 521060.000 26...</td>\n",
       "    </tr>\n",
       "  </tbody>\n",
       "</table>\n",
       "</div>"
      ],
      "text/plain": [
       "              tmp_id  conparid_01-11  CEN_1901  \\\n",
       "6110  102002_1700001          102002   1700001   \n",
       "\n",
       "                                               geometry  \n",
       "6110  POLYGON ((521354.031 265879.219, 521060.000 26...  "
      ]
     },
     "execution_count": 68,
     "metadata": {},
     "output_type": "execute_result"
    }
   ],
   "source": [
    "test_sample"
   ]
  },
  {
   "cell_type": "code",
   "execution_count": 66,
   "metadata": {},
   "outputs": [],
   "source": [
    "test_sample.to_file(\"1901test_boundary_sample.geojson\", driver = \"GeoJSON\")"
   ]
  },
  {
   "cell_type": "code",
   "execution_count": null,
   "metadata": {},
   "outputs": [],
   "source": []
  }
 ],
 "metadata": {
  "kernelspec": {
   "display_name": "geocoder_py38",
   "language": "python",
   "name": "python3"
  },
  "language_info": {
   "codemirror_mode": {
    "name": "ipython",
    "version": 3
   },
   "file_extension": ".py",
   "mimetype": "text/x-python",
   "name": "python",
   "nbconvert_exporter": "python",
   "pygments_lexer": "ipython3",
   "version": "3.8.15"
  },
  "orig_nbformat": 4
 },
 "nbformat": 4,
 "nbformat_minor": 2
}
