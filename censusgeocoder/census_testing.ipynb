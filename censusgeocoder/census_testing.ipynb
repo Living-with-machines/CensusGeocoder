{
 "cells": [
  {
   "cell_type": "code",
   "execution_count": 1,
   "metadata": {},
   "outputs": [
    {
     "name": "stderr",
     "output_type": "stream",
     "text": [
      "/Users/wknq25/opt/anaconda3/envs/geocoder_refactor/lib/python3.11/site-packages/geopandas/_compat.py:124: UserWarning: The Shapely GEOS version (3.11.1-CAPI-1.17.1) is incompatible with the GEOS version PyGEOS was compiled with (3.10.4-CAPI-1.16.2). Conversions between both will be slow.\n",
      "  warnings.warn(\n"
     ]
    }
   ],
   "source": [
    "from census2 import Census, Census_vars\n",
    "from geometry2 import TargetGeometry, Boundary, Geometry_vars\n",
    "\n",
    "import yaml"
   ]
  },
  {
   "cell_type": "code",
   "execution_count": 2,
   "metadata": {},
   "outputs": [
    {
     "name": "stdout",
     "output_type": "stream",
     "text": [
      "EW\n",
      "1851\n",
      "Reading census EW 1851\n",
      "100000\n",
      "100000\n"
     ]
    },
    {
     "name": "stderr",
     "output_type": "stream",
     "text": [
      "/Users/wknq25/opt/anaconda3/envs/geocoder_refactor/lib/python3.11/site-packages/pyogrio/raw.py:194: RuntimeWarning: ../data/input/ew/1851EngWalesParishandPlace/1851EngWalesParishandPlace_valid.shp contains polygon(s) with rings with invalid winding order. Autocorrecting them, but that shapefile should be corrected using ogr2ogr for example.\n",
      "  result = ogr_read(\n",
      "/Users/wknq25/opt/anaconda3/envs/geocoder_refactor/lib/python3.11/site-packages/pyogrio/raw.py:194: RuntimeWarning: ../data/input/ew/rsd_boundary_data/RSD_1851_1911_JR_valid.shp contains polygon(s) with rings with invalid winding order. Autocorrecting them, but that shapefile should be corrected using ogr2ogr for example.\n",
      "  result = ogr_read(\n"
     ]
    },
    {
     "name": "stdout",
     "output_type": "stream",
     "text": [
      "gb1900\n"
     ]
    },
    {
     "name": "stderr",
     "output_type": "stream",
     "text": [
      "/Users/wknq25/Documents/CensusGeocoder/censusgeocoder/utils.py:556: RuntimeWarning: Mean of empty slice.\n",
      "  mean_dist = spatial.distance.pdist(np.array(list(zip(coords.x, coords.y)))).mean()\n"
     ]
    },
    {
     "name": "stdout",
     "output_type": "stream",
     "text": [
      "11653\n",
      "10230\n",
      "No candidate links to compare\n",
      "No matches or no matches meeting filter thresholds\n",
      "osopenroads\n",
      "No candidate links to compare\n",
      "No matches or no matches meeting filter thresholds\n"
     ]
    }
   ],
   "source": [
    "with open(\"../inputs/targetgeom_config.yaml\", \"r\") as f:\n",
    "    tg_config = yaml.load(f, Loader=yaml.FullLoader)\n",
    "    \n",
    "with open(\"../inputs/gen_config.yaml\", \"r\") as f:\n",
    "    gen_config = yaml.load(f, Loader=yaml.FullLoader)\n",
    "\n",
    "for cen_country, year_list in gen_config[\"census_years\"].items():\n",
    "    print(cen_country)\n",
    "    for cen_year in year_list:\n",
    "        print(cen_year)\n",
    "\n",
    "        with open(f\"../inputs/{cen_country}_{cen_year}_config.yaml\", \"r\") as f:\n",
    "            config = yaml.load(f, Loader=yaml.FullLoader)\n",
    "\n",
    "        census_config = config[\"census\"]\n",
    "        boundary_config = config[\"boundaries\"]\n",
    "\n",
    "\n",
    "        census = Census(Census_vars(**census_config,)) #make sure to remove process false if wanting to rerun\n",
    "        census.create_censusforlinking() # comment out if not reading census ----- in future have this in the census2.py rather than called here\n",
    "\n",
    "\n",
    "        list_of_boundaries = []\n",
    "\n",
    "        for bound, bound_details in boundary_config.items():\n",
    "\n",
    "            tmp_boundary = Boundary(Geometry_vars(census_year=census.vars.year,\n",
    "                                                census_country=census.vars.country,\n",
    "                                                **bound_details))\n",
    "\n",
    "            tmp_boundary.get_geometry_data()\n",
    "            tmp_boundary.process()\n",
    "\n",
    "            list_of_boundaries.append(tmp_boundary)\n",
    "\n",
    "\n",
    "        if len(list_of_boundaries) > 1:\n",
    "\n",
    "            boundary = list_of_boundaries[0].merge_boundaries(list_of_boundaries[1:])\n",
    "\n",
    "        else:\n",
    "            boundary = tmp_boundary\n",
    "\n",
    "\n",
    "\n",
    "        for geom, geom_details in tg_config.items():\n",
    "            print(geom_details[\"geom_name\"])\n",
    "            target_geom = TargetGeometry(Geometry_vars(census_year=census.vars.year,\n",
    "                                                    census_country=census.vars.country,\n",
    "                                                    **geom_details))\n",
    "            target_geom.get_geometry_data()\n",
    "            target_geom.process()\n",
    "            target_geom.assigntoboundary(boundary, )\n",
    "            target_geom.create_uid_of_geocode_field()\n",
    "            target_geom.dedup_streets()\n",
    "            target_geom.data\n",
    "            target_geom.create_tgforlinking()\n",
    "            census.geocode(target_geom)\n",
    "\n",
    "\n"
   ]
  }
 ],
 "metadata": {
  "kernelspec": {
   "display_name": "geocoder_refactor",
   "language": "python",
   "name": "python3"
  },
  "language_info": {
   "codemirror_mode": {
    "name": "ipython",
    "version": 3
   },
   "file_extension": ".py",
   "mimetype": "text/x-python",
   "name": "python",
   "nbconvert_exporter": "python",
   "pygments_lexer": "ipython3",
   "version": "3.11.3"
  },
  "orig_nbformat": 4
 },
 "nbformat": 4,
 "nbformat_minor": 2
}
